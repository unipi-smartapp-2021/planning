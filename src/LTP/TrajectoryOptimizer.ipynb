{
 "cells": [
  {
   "cell_type": "code",
   "execution_count": 1,
   "metadata": {},
   "outputs": [],
   "source": [
    "import numpy as np\n",
    "import pandas as pd\n",
    "from sklearn.model_selection import train_test_split, KFold, GridSearchCV\n",
    "from sklearn.preprocessing import StandardScaler\n",
    "from sklearn.neighbors import KNeighborsClassifier\n",
    "from sklearn.metrics import classification_report\n",
    "import tensorflow as tf\n",
    "import tensorflow.keras as keras\n",
    "from tensorflow.keras.models import Sequential\n",
    "from tensorflow.keras.layers import Dense, Dropout, Activation\n",
    "from tensorflow.keras.optimizers import Adam\n",
    "from tensorflow.keras.callbacks import EarlyStopping\n",
    "import matplotlib.pyplot as plt\n",
    "from tensorflow.keras.utils import to_categorical\n",
    "from tensorflow.keras.models import load_model\n",
    "\n",
    "# Set random seed\n",
    "np.random.seed(0)"
   ]
  },
  {
   "cell_type": "code",
   "execution_count": 2,
   "metadata": {},
   "outputs": [
    {
     "name": "stdout",
     "output_type": "stream",
     "text": [
      "(6496, 4)\n",
      "curvature, displacement_x, displacement_y, target\n",
      "[0.04056095 0.         0.         2.        ]\n"
     ]
    }
   ],
   "source": [
    "# Load the data\n",
    "data = np.loadtxt('data.csv', delimiter=',')\n",
    "print(data.shape)\n",
    "\n",
    "# The columns are: 'curvature', 'displacement_x', 'displacement_y', 'target'\n",
    "# where the target is an integer encoding the classes:\n",
    "# ESTERNO = 0\n",
    "# IN_MEZZO = 1\n",
    "# INTERNO = 2\n",
    "print('curvature, displacement_x, displacement_y, target')\n",
    "print(data[0])"
   ]
  },
  {
   "cell_type": "code",
   "execution_count": 3,
   "metadata": {},
   "outputs": [
    {
     "name": "stdout",
     "output_type": "stream",
     "text": [
      "(5196, 4)\n",
      "(1300, 4)\n"
     ]
    }
   ],
   "source": [
    "# Split into train and test\n",
    "train_data, test_data = train_test_split(data, test_size=0.2, random_state=0)\n",
    "print(train_data.shape)\n",
    "print(test_data.shape)\n",
    "\n",
    "# Normalize the train_data\n",
    "train_df = pd.DataFrame(train_data)\n",
    "test_df = pd.DataFrame(test_data)\n",
    "train_df.columns = ['curvature', 'displacement_x', 'displacement_y', 'target']\n",
    "test_df.columns = ['curvature', 'displacement_x', 'displacement_y', 'target']\n",
    "\n",
    "scaler = StandardScaler()\n",
    "scaler.fit(train_df[['curvature', 'displacement_x', 'displacement_y']])\n",
    "\n",
    "train_df[['curvature', 'displacement_x', 'displacement_y']] = scaler.transform(train_df[['curvature', 'displacement_x', 'displacement_y']])\n",
    "test_df[['curvature', 'displacement_x', 'displacement_y']] = scaler.transform(test_df[['curvature', 'displacement_x', 'displacement_y']])"
   ]
  },
  {
   "cell_type": "markdown",
   "metadata": {},
   "source": [
    "# K-NN"
   ]
  },
  {
   "cell_type": "code",
   "execution_count": 28,
   "metadata": {},
   "outputs": [
    {
     "name": "stdout",
     "output_type": "stream",
     "text": [
      "(5196, 3) (5196,) (1300, 3) (1300,)\n"
     ]
    }
   ],
   "source": [
    "train_X, train_y = train_df[['curvature', 'displacement_x', 'displacement_y']], train_df['target']\n",
    "test_X, test_y = test_df[['curvature', 'displacement_x', 'displacement_y']], test_df['target']\n",
    "\n",
    "# Convert to numpy arrays\n",
    "train_X = np.array(train_X)\n",
    "train_y = np.array(train_y)\n",
    "test_X = np.array(test_X)\n",
    "test_y = np.array(test_y)\n",
    "\n",
    "print(train_X.shape, train_y.shape, test_X.shape, test_y.shape)"
   ]
  },
  {
   "cell_type": "code",
   "execution_count": 31,
   "metadata": {},
   "outputs": [
    {
     "name": "stdout",
     "output_type": "stream",
     "text": [
      "{'algorithm': 'ball_tree', 'n_jobs': -1, 'n_neighbors': 19, 'p': 1, 'weights': 'uniform'}\n"
     ]
    }
   ],
   "source": [
    "# Perform a grid search for the best parameters of k-NN\n",
    "params = {\n",
    "    'n_neighbors': list(range(1, 20)),\n",
    "    'weights': ['uniform', 'distance'],\n",
    "    'algorithm': ['auto', 'ball_tree', 'kd_tree', 'brute'],\n",
    "    #'leaf_size': list(range(1, 50)),\n",
    "    'p': list(range(1, 10)),\n",
    "    'n_jobs': [-1],\n",
    "}\n",
    "# Create a KFold object\n",
    "kf = KFold(n_splits=5, shuffle=True, random_state=0)\n",
    "# Find the best parameters\n",
    "clf = KNeighborsClassifier()\n",
    "clf = GridSearchCV(clf, params, cv=kf, n_jobs=-1)\n",
    "clf.fit(train_X, train_y)\n",
    "print(clf.best_params_)"
   ]
  },
  {
   "cell_type": "code",
   "execution_count": 32,
   "metadata": {},
   "outputs": [
    {
     "name": "stdout",
     "output_type": "stream",
     "text": [
      "Train report:\n",
      "              precision    recall  f1-score   support\n",
      "\n",
      "         0.0       0.61      0.52      0.56      1766\n",
      "         1.0       0.53      0.10      0.16       722\n",
      "         2.0       0.64      0.84      0.73      2708\n",
      "\n",
      "    accuracy                           0.63      5196\n",
      "   macro avg       0.59      0.49      0.48      5196\n",
      "weighted avg       0.61      0.63      0.59      5196\n",
      "\n",
      "Test report:\n",
      "              precision    recall  f1-score   support\n",
      "\n",
      "         0.0       0.49      0.42      0.45       432\n",
      "         1.0       0.24      0.04      0.07       205\n",
      "         2.0       0.58      0.79      0.67       663\n",
      "\n",
      "    accuracy                           0.55      1300\n",
      "   macro avg       0.43      0.41      0.40      1300\n",
      "weighted avg       0.50      0.55      0.50      1300\n",
      "\n"
     ]
    }
   ],
   "source": [
    "# Retrain the model with the best parameters\n",
    "clf = KNeighborsClassifier(**clf.best_params_)\n",
    "clf.fit(train_X, train_y)\n",
    "# Print the train and test classification report\n",
    "print('Train report:')\n",
    "print(classification_report(train_y, clf.predict(train_X)))\n",
    "print('Test report:')\n",
    "print(classification_report(test_y, clf.predict(test_X)))"
   ]
  },
  {
   "cell_type": "markdown",
   "metadata": {},
   "source": [
    "# Random Forest"
   ]
  },
  {
   "cell_type": "code",
   "execution_count": 33,
   "metadata": {},
   "outputs": [],
   "source": [
    "# Train a Random Forest model\n",
    "from sklearn.ensemble import RandomForestClassifier\n",
    "\n",
    "train_X, train_y = train_df[['curvature', 'displacement_x', 'displacement_y']], train_df['target']\n",
    "test_X, test_y = test_df[['curvature', 'displacement_x', 'displacement_y']], test_df['target']\n",
    "\n",
    "# Convert to numpy arrays\n",
    "train_X = np.array(train_X)\n",
    "train_y = np.array(train_y)\n",
    "test_X = np.array(test_X)\n",
    "test_y = np.array(test_y)"
   ]
  },
  {
   "cell_type": "code",
   "execution_count": 34,
   "metadata": {},
   "outputs": [
    {
     "name": "stdout",
     "output_type": "stream",
     "text": [
      "{'bootstrap': False, 'criterion': 'entropy', 'max_depth': 8, 'min_samples_leaf': 3, 'min_samples_split': 4, 'n_estimators': 30, 'n_jobs': -1}\n"
     ]
    }
   ],
   "source": [
    "# Perform a grid search for the best parameters of Random Forest\n",
    "params = {\n",
    "    'n_estimators': [30],\n",
    "    'max_depth': list(range(1, 10)),\n",
    "    'min_samples_split': list(range(2, 5)),\n",
    "    'min_samples_leaf': list(range(3, 5)),\n",
    "    'bootstrap': [True, False],\n",
    "    'criterion': ['gini', 'entropy'],\n",
    "    'n_jobs': [-1],\n",
    "}\n",
    "# Create a KFold object\n",
    "kf = KFold(n_splits=5, shuffle=True, random_state=0)\n",
    "# Find the best parameters\n",
    "clf = RandomForestClassifier()\n",
    "clf = GridSearchCV(clf, params, cv=kf, n_jobs=-1)\n",
    "clf.fit(train_X, train_y)\n",
    "print(clf.best_params_)"
   ]
  },
  {
   "cell_type": "code",
   "execution_count": 35,
   "metadata": {},
   "outputs": [
    {
     "name": "stdout",
     "output_type": "stream",
     "text": [
      "Train report:\n",
      "              precision    recall  f1-score   support\n",
      "\n",
      "         0.0       0.71      0.41      0.52      1766\n",
      "         1.0       0.92      0.03      0.06       722\n",
      "         2.0       0.62      0.94      0.74      2708\n",
      "\n",
      "    accuracy                           0.64      5196\n",
      "   macro avg       0.75      0.46      0.44      5196\n",
      "weighted avg       0.69      0.64      0.57      5196\n",
      "\n",
      "Test report:\n",
      "              precision    recall  f1-score   support\n",
      "\n",
      "         0.0       0.61      0.35      0.45       432\n",
      "         1.0       0.40      0.01      0.02       205\n",
      "         2.0       0.57      0.90      0.70       663\n",
      "\n",
      "    accuracy                           0.58      1300\n",
      "   macro avg       0.53      0.42      0.39      1300\n",
      "weighted avg       0.56      0.58      0.51      1300\n",
      "\n"
     ]
    }
   ],
   "source": [
    "# Retrain the model with the best parameters\n",
    "clf = RandomForestClassifier(**clf.best_params_)\n",
    "clf.fit(train_X, train_y)\n",
    "# Print the train and test classification report\n",
    "print('Train report:')\n",
    "print(classification_report(train_y, clf.predict(train_X)))\n",
    "print('Test report:')\n",
    "print(classification_report(test_y, clf.predict(test_X)))"
   ]
  },
  {
   "cell_type": "markdown",
   "metadata": {},
   "source": [
    "# NN"
   ]
  },
  {
   "cell_type": "code",
   "execution_count": 4,
   "metadata": {},
   "outputs": [
    {
     "name": "stdout",
     "output_type": "stream",
     "text": [
      "(4156, 3) (4156, 3) (1040, 3) (1040, 3) (1300, 3) (1300, 3)\n"
     ]
    }
   ],
   "source": [
    "train, val = train_test_split(train_df, test_size=0.2, random_state=0)\n",
    "\n",
    "train_X, train_y = train[['curvature', 'displacement_x', 'displacement_y']], train['target']\n",
    "val_X, val_y = val[['curvature', 'displacement_x', 'displacement_y']], val['target']\n",
    "test_X, test_y = test_df[['curvature', 'displacement_x', 'displacement_y']], test_df['target']\n",
    "\n",
    "# Convert to numpy arrays\n",
    "train_X = np.array(train_X)\n",
    "train_y = np.array(train_y)\n",
    "val_X = np.array(val_X)\n",
    "val_y = np.array(val_y)\n",
    "test_X = np.array(test_X)\n",
    "test_y = np.array(test_y)\n",
    "\n",
    "# Encode the targets to one-hot vectors\n",
    "train_y = to_categorical(train_y)\n",
    "val_y = to_categorical(val_y)\n",
    "test_y = to_categorical(test_y)\n",
    "\n",
    "print(train_X.shape, train_y.shape, val_X.shape, val_y.shape, test_X.shape, test_y.shape)"
   ]
  },
  {
   "cell_type": "code",
   "execution_count": 50,
   "metadata": {},
   "outputs": [
    {
     "name": "stdout",
     "output_type": "stream",
     "text": [
      "Model: \"sequential_3\"\n",
      "_________________________________________________________________\n",
      " Layer (type)                Output Shape              Param #   \n",
      "=================================================================\n",
      " dense_9 (Dense)             (None, 128)               512       \n",
      "                                                                 \n",
      " dropout (Dropout)           (None, 128)               0         \n",
      "                                                                 \n",
      " activation (Activation)     (None, 128)               0         \n",
      "                                                                 \n",
      " dense_10 (Dense)            (None, 128)               16512     \n",
      "                                                                 \n",
      " dropout_1 (Dropout)         (None, 128)               0         \n",
      "                                                                 \n",
      " activation_1 (Activation)   (None, 128)               0         \n",
      "                                                                 \n",
      " dense_11 (Dense)            (None, 128)               16512     \n",
      "                                                                 \n",
      " dropout_2 (Dropout)         (None, 128)               0         \n",
      "                                                                 \n",
      " activation_2 (Activation)   (None, 128)               0         \n",
      "                                                                 \n",
      " dense_12 (Dense)            (None, 128)               16512     \n",
      "                                                                 \n",
      " dropout_3 (Dropout)         (None, 128)               0         \n",
      "                                                                 \n",
      " activation_3 (Activation)   (None, 128)               0         \n",
      "                                                                 \n",
      " dense_13 (Dense)            (None, 64)                8256      \n",
      "                                                                 \n",
      " dropout_4 (Dropout)         (None, 64)                0         \n",
      "                                                                 \n",
      " activation_4 (Activation)   (None, 64)                0         \n",
      "                                                                 \n",
      " dense_14 (Dense)            (None, 64)                4160      \n",
      "                                                                 \n",
      " dropout_5 (Dropout)         (None, 64)                0         \n",
      "                                                                 \n",
      " activation_5 (Activation)   (None, 64)                0         \n",
      "                                                                 \n",
      " dense_15 (Dense)            (None, 32)                2080      \n",
      "                                                                 \n",
      " dropout_6 (Dropout)         (None, 32)                0         \n",
      "                                                                 \n",
      " activation_6 (Activation)   (None, 32)                0         \n",
      "                                                                 \n",
      " dense_16 (Dense)            (None, 3)                 99        \n",
      "                                                                 \n",
      "=================================================================\n",
      "Total params: 64,643\n",
      "Trainable params: 64,643\n",
      "Non-trainable params: 0\n",
      "_________________________________________________________________\n"
     ]
    }
   ],
   "source": [
    "model = Sequential()\n",
    "model.add(Dense(128, input_dim=3))\n",
    "model.add(Dropout(0.3))\n",
    "model.add(Activation('relu'))\n",
    "\n",
    "model.add(Dense(128))\n",
    "model.add(Dropout(0.3))\n",
    "model.add(Activation('relu'))\n",
    "model.add(Dense(128))\n",
    "model.add(Dropout(0.3))\n",
    "model.add(Activation('relu'))\n",
    "model.add(Dense(128))\n",
    "model.add(Dropout(0.3))\n",
    "model.add(Activation('relu'))\n",
    "model.add(Dense(64))\n",
    "model.add(Dropout(0.3))\n",
    "model.add(Activation('relu'))\n",
    "model.add(Dense(64))\n",
    "model.add(Dropout(0.3))\n",
    "model.add(Activation('relu'))\n",
    "model.add(Dense(32))\n",
    "model.add(Dropout(0.3))\n",
    "model.add(Activation('relu'))\n",
    "\n",
    "model.add(Dense(3, activation='softmax'))\n",
    "\n",
    "model.compile(loss='categorical_crossentropy', optimizer='adam', metrics=['accuracy'])\n",
    "\n",
    "model.summary()"
   ]
  },
  {
   "cell_type": "code",
   "execution_count": 51,
   "metadata": {},
   "outputs": [
    {
     "name": "stderr",
     "output_type": "stream",
     "text": [
      "2022-01-12 11:17:02.516612: I tensorflow/core/grappler/optimizers/custom_graph_optimizer_registry.cc:112] Plugin optimizer for device_type GPU is enabled.\n",
      "2022-01-12 11:17:02.983927: I tensorflow/core/grappler/optimizers/custom_graph_optimizer_registry.cc:112] Plugin optimizer for device_type GPU is enabled.\n"
     ]
    },
    {
     "name": "stdout",
     "output_type": "stream",
     "text": [
      "130/130 [==============================] - 1s 6ms/step - loss: 0.8002 - accuracy: 0.6268\n",
      "Train accuracy: 0.6268045902252197\n",
      "33/33 [==============================] - 0s 7ms/step - loss: 0.9104 - accuracy: 0.5798\n",
      "Val accuracy: 0.579807698726654\n"
     ]
    },
    {
     "data": {
      "image/png": "[encoded data removed]",
      "text/plain": [
       "<Figure size 720x360 with 2 Axes>"
      ]
     },
     "metadata": {
      "needs_background": "light"
     },
     "output_type": "display_data"
    }
   ],
   "source": [
    "history = model.fit(\n",
    "    train_X, train_y, epochs=1000, batch_size=256,\n",
    "    validation_data=(val_X, val_y), callbacks=[EarlyStopping(monitor='val_loss', patience=100)], verbose=0\n",
    ")\n",
    "# Print train and val accuracy\n",
    "print('Train accuracy:', model.evaluate(train_X, train_y)[1])\n",
    "print('Val accuracy:', model.evaluate(val_X, val_y)[1])\n",
    "# Plot the loss and accuracy curves\n",
    "plt.figure(figsize=(10, 5))\n",
    "plt.subplot(1, 2, 1)\n",
    "plt.plot(history.history['loss'], label='train')\n",
    "plt.plot(history.history['val_loss'], label='val')\n",
    "plt.legend()\n",
    "plt.title('Loss')\n",
    "plt.subplot(1, 2, 2)\n",
    "plt.plot(history.history['accuracy'], label='train')\n",
    "plt.plot(history.history['val_accuracy'], label='val')\n",
    "plt.legend()\n",
    "plt.title('Accuracy')\n",
    "plt.show()"
   ]
  },
  {
   "cell_type": "code",
   "execution_count": 7,
   "metadata": {},
   "outputs": [
    {
     "name": "stdout",
     "output_type": "stream",
     "text": [
      "Train report:\n",
      "Train report:\n"
     ]
    },
    {
     "name": "stderr",
     "output_type": "stream",
     "text": [
      "2022-01-15 00:10:32.726563: W tensorflow/core/platform/profile_utils/cpu_utils.cc:128] Failed to get CPU frequency: 0 Hz\n",
      "2022-01-15 00:10:32.775729: I tensorflow/core/grappler/optimizers/custom_graph_optimizer_registry.cc:112] Plugin optimizer for device_type GPU is enabled.\n"
     ]
    },
    {
     "name": "stdout",
     "output_type": "stream",
     "text": [
      "              precision    recall  f1-score   support\n",
      "\n",
      "           0       0.64      0.47      0.54      1430\n",
      "           1       0.20      0.00      0.00       565\n",
      "           2       0.62      0.89      0.73      2161\n",
      "\n",
      "    accuracy                           0.63      4156\n",
      "   macro avg       0.49      0.46      0.43      4156\n",
      "weighted avg       0.57      0.63      0.57      4156\n",
      "\n",
      "Test report:\n",
      "              precision    recall  f1-score   support\n",
      "\n",
      "           0       0.55      0.37      0.44       432\n",
      "           1       0.50      0.01      0.02       205\n",
      "           2       0.58      0.88      0.70       663\n",
      "\n",
      "    accuracy                           0.57      1300\n",
      "   macro avg       0.54      0.42      0.39      1300\n",
      "weighted avg       0.56      0.57      0.51      1300\n",
      "\n"
     ]
    }
   ],
   "source": [
    "# Print the train and test classification report\n",
    "print('Train report:')\n",
    "def one_hot_to_label(y):\n",
    "    return np.argmax(y, axis=1)\n",
    "print('Train report:')\n",
    "print(classification_report(one_hot_to_label(train_y), one_hot_to_label(model.predict(train_X))))\n",
    "print('Test report:')\n",
    "print(classification_report(one_hot_to_label(test_y), one_hot_to_label(model.predict(test_X))))"
   ]
  },
  {
   "cell_type": "code",
   "execution_count": 63,
   "metadata": {},
   "outputs": [],
   "source": [
    "# Save the model\n",
    "model.save('model.h5')"
   ]
  },
  {
   "cell_type": "code",
   "execution_count": 6,
   "metadata": {},
   "outputs": [
    {
     "name": "stdout",
     "output_type": "stream",
     "text": [
      "Metal device set to: Apple M1\n",
      "\n",
      "systemMemory: 8.00 GB\n",
      "maxCacheSize: 2.67 GB\n",
      "\n"
     ]
    },
    {
     "name": "stderr",
     "output_type": "stream",
     "text": [
      "2022-01-15 00:10:30.664214: I tensorflow/core/common_runtime/pluggable_device/pluggable_device_factory.cc:305] Could not identify NUMA node of platform GPU ID 0, defaulting to 0. Your kernel may not have been built with NUMA support.\n",
      "2022-01-15 00:10:30.666002: I tensorflow/core/common_runtime/pluggable_device/pluggable_device_factory.cc:271] Created TensorFlow device (/job:localhost/replica:0/task:0/device:GPU:0 with 0 MB memory) -> physical PluggableDevice (device: 0, name: METAL, pci bus id: <undefined>)\n"
     ]
    }
   ],
   "source": [
    "# Load the model\n",
    "model = load_model('model.h5')"
   ]
  },
  {
   "cell_type": "code",
   "execution_count": 11,
   "metadata": {},
   "outputs": [
    {
     "name": "stdout",
     "output_type": "stream",
     "text": [
      "Initial cones:  18 18\n",
      "Removing duplicates (equal cones):  18 18\n",
      "Car position:  (105, 0)\n",
      "Car direction:  (0, 1)\n",
      "Remove noise cones: 18 18\n"
     ]
    },
    {
     "data": {
      "image/png": "[encoded data removed]",
      "text/plain": [
       "<Figure size 432x288 with 1 Axes>"
      ]
     },
     "metadata": {
      "needs_background": "light"
     },
     "output_type": "display_data"
    },
    {
     "name": "stdout",
     "output_type": "stream",
     "text": [
      "Reorder cones:  18 18\n"
     ]
    }
   ],
   "source": [
    "# Test the model on a Sample Track Map\n",
    "from TrackMap import TrackMap\n",
    "from Trajectory import Trajectory\n",
    "from GraphicUtility import plot_trajectory, plot_track_map, end_plotting\n",
    "from SampleTrack import StraightTrackMap, CircleTrackMap\n",
    "from Parameters import Parameters\n",
    "from Utils import euclidean_distance, find_closest_point, compute_middle_point, compute_spline, find_line\n",
    "from PlanStep import PlanStep\n",
    "\n",
    "#track_map = StraightTrackMap(100, 10, 20, 0, 0)\n",
    "track_map = CircleTrackMap(100, 10, 20, 0, 0, 0, -90, False)"
   ]
  },
  {
   "cell_type": "code",
   "execution_count": 12,
   "metadata": {},
   "outputs": [
    {
     "name": "stdout",
     "output_type": "stream",
     "text": [
      "time: 14.87975782467691\n",
      "Middle trajectory:\n"
     ]
    },
    {
     "data": {
      "image/png": "[encoded data removed]",
      "text/plain": [
       "<Figure size 432x288 with 2 Axes>"
      ]
     },
     "metadata": {
      "needs_background": "light"
     },
     "output_type": "display_data"
    },
    {
     "name": "stdout",
     "output_type": "stream",
     "text": [
      "Opt. trajectory time: 61.501368931415854\n",
      "Optimal trajectory:\n"
     ]
    },
    {
     "data": {
      "image/png": "[encoded data removed]",
      "text/plain": [
       "<Figure size 432x288 with 2 Axes>"
      ]
     },
     "metadata": {
      "needs_background": "light"
     },
     "output_type": "display_data"
    }
   ],
   "source": [
    "parameters = Parameters()\n",
    "trajectory = Trajectory(parameters)\n",
    "\n",
    "trajectory.compute_middle_trajectory(track_map)\n",
    "trajectory.compute_velocities()\n",
    "print('time:', trajectory.compute_time())\n",
    "\n",
    "print('Middle trajectory:')\n",
    "plot_track_map(track_map)\n",
    "plot_trajectory(trajectory.get_trajectory(), new_figure=False)\n",
    "end_plotting()\n",
    "\n",
    "curvatures = list(map(lambda x: x.curvature, trajectory.get_trajectory()))\n",
    "displacemets = [(0,0)] + list(map(lambda x1, x2: (x2.position[0] - x1.position[0], x2.position[1] - x1.position[1]) , trajectory.get_trajectory()[:-1], trajectory.get_trajectory()[1:]))\n",
    "\n",
    "sample = pd.DataFrame({'curvature': curvatures, 'displacement_x': [x[0] for x in displacemets], 'displacement_y': [x[1] for x in displacemets]})\n",
    "# Rescale the data\n",
    "sample_scaled = scaler.transform(sample)\n",
    "\n",
    "# Predict the target\n",
    "prediction = model.predict(sample_scaled)\n",
    "\n",
    "prediction = one_hot_to_label(prediction)\n",
    "new_trajectory = []\n",
    "\n",
    "for i, step in enumerate(trajectory.get_trajectory()):\n",
    "    nearest_left_cone = track_map.get_left_cones()[find_closest_point(step.position, track_map.get_left_cones())]\n",
    "    nearest_right_cone = track_map.get_right_cones()[find_closest_point(step.position, track_map.get_right_cones())]\n",
    "    left = PlanStep(compute_middle_point(step.position, nearest_left_cone))\n",
    "    right = PlanStep(compute_middle_point(step.position, nearest_right_cone))\n",
    "    if prediction[i] == 0:\n",
    "        new_step = left\n",
    "    elif prediction[i] == 1:\n",
    "        new_step = step\n",
    "    elif prediction[i] == 2:\n",
    "        new_step = right\n",
    "    new_trajectory.append(new_step)\n",
    "\n",
    "trajectory.set_trajectory(new_trajectory)\n",
    "trajectory.compute_velocities()\n",
    "print('Opt. trajectory time:', trajectory.compute_time())\n",
    "print('Optimal trajectory:')\n",
    "plot_track_map(track_map)\n",
    "plot_trajectory(trajectory.get_trajectory(), new_figure=False)\n",
    "end_plotting()"
   ]
  },
  {
   "cell_type": "code",
   "execution_count": null,
   "metadata": {},
   "outputs": [],
   "source": []
  }
 ],
 "metadata": {
  "interpreter": {
   "hash": "c4544e20c829552bdc3e97aa8014d522897400a8e75c69a581cdf4bd9fb5bbac"
  },
  "kernelspec": {
   "display_name": "Python 3.9.7 64-bit ('base': conda)",
   "language": "python",
   "name": "python3"
  },
  "language_info": {
   "codemirror_mode": {
    "name": "ipython",
    "version": 3
   },
   "file_extension": ".py",
   "mimetype": "text/x-python",
   "name": "python",
   "nbconvert_exporter": "python",
   "pygments_lexer": "ipython3",
   "version": "3.9.7"
  },
  "orig_nbformat": 4
 },
 "nbformat": 4,
 "nbformat_minor": 2
}
